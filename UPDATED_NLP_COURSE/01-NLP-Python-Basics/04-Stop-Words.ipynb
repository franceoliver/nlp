{
 "cells": [
  {
   "cell_type": "markdown",
   "metadata": {},
   "source": [
    "___\n",
    "\n",
    "<a href='http://www.pieriandata.com'> <img src='../Pierian_Data_Logo.png' /></a>\n",
    "___"
   ]
  },
  {
   "cell_type": "markdown",
   "metadata": {},
   "source": [
    "# Stop Words\n",
    "Words like \"a\" and \"the\" appear so frequently that they don't require tagging as thoroughly as nouns, verbs and modifiers. We call these *stop words*, and they can be filtered from the text to be processed. spaCy holds a built-in list of some 305 English stop words."
   ]
  },
  {
   "cell_type": "code",
   "execution_count": 4,
   "metadata": {},
   "outputs": [],
   "source": [
    "# Perform standard imports:\n",
    "import spacy\n",
    "nlp = spacy.load('en_core_web_sm')"
   ]
  },
  {
   "cell_type": "code",
   "execution_count": 5,
   "metadata": {},
   "outputs": [
    {
     "name": "stdout",
     "output_type": "stream",
     "text": [
      "{'she', 'none', 'am', 'can', 'from', 'had', 'yourself', 'about', 'yet', 'under', 'so', 'elsewhere', 'less', 'toward', 'another', 'amount', 'six', 'twelve', 'sometimes', 'thereby', 'afterwards', 'fifteen', 'on', '‘ll', 'an', 'itself', 'someone', 'his', '’re', 'back', 'whereafter', 'since', 'these', 'beside', 'whither', 'make', 'done', 'herein', 'either', 'thereafter', 'beyond', 'almost', 'formerly', 'nowhere', 'into', 'everyone', 'is', 'own', 'becomes', 'whatever', 'many', 'anything', 'cannot', 'full', 'something', 'n‘t', 'up', 'forty', 'alone', 'along', 'rather', 'meanwhile', 'becoming', 'namely', 'mostly', 'any', '’d', 'via', 'whose', 'are', 'must', 'mine', \"'d\", 'through', 'thereupon', 'themselves', 'regarding', 'when', 'below', 'already', 'noone', 'also', 'whence', 'other', 'show', 'more', 'behind', 'myself', 'twenty', 'across', 'often', 'her', 'take', 'will', 'hereupon', 'seem', 'while', 'me', 'to', 'four', 'between', 'latter', 'could', 're', 'become', 'ourselves', 'down', 'above', 'than', 'therefore', 'yours', 'nevertheless', 'ours', 'did', 'until', 'however', 'put', 'do', 'sometime', 'neither', 'we', 'quite', 'various', 'former', 'most', 'eight', 'three', 'against', 'still', 'first', 'although', 'perhaps', 'both', 'others', 'every', 'among', 'no', 'keep', 'though', 'hereby', 'seems', 'all', 'upon', 'over', 'thence', 'never', '‘re', 'side', 'bottom', 'in', 'empty', 'ten', 'last', 'whom', 'hereafter', 'really', 'move', 'whole', 'else', 'if', 'those', 'your', 'i', 'several', '’s', 'call', 'fifty', '‘ve', 'who', \"'m\", 'this', 'nor', 'him', 'a', 'hers', 'of', 'then', 'herself', 'unless', 'ever', 'would', 'their', 'what', 'they', 'it', 'give', 'were', 'please', 'together', 'nothing', 'get', 'whether', 'only', 'nine', 'during', 'why', 'my', 'being', 'throughout', 'been', 'eleven', 'seemed', 'just', 'see', 'became', 'seeming', 'whereas', '‘m', 'how', 'very', 'everything', 'here', 'two', 'moreover', 'onto', 'sixty', 'as', '‘s', 'and', \"'ll\", 'us', 'you', \"n't\", 'due', 'part', \"'ve\", 'n’t', 'everywhere', 'even', 'besides', 'whereby', 'wherein', 'say', 'few', 'front', 'be', \"'s\", 'go', 'where', 'third', 'further', 'each', 'within', 'anyway', 'should', 'indeed', 'them', 'name', 'yourselves', 'top', 'made', '‘d', 'using', 'anyone', 'too', 'he', 'now', 'may', 'amongst', 'anywhere', 'nobody', 'our', 'have', 'some', 'hence', 'whenever', 'with', 'one', 'after', 'much', 'or', 'but', 'five', 'himself', 'somehow', 'the', 'off', 'therein', 'again', 'towards', 'without', 'does', 'before', 'was', 'next', 'once', 'beforehand', 'at', 'thru', 'well', 'per', 'because', 'such', 'which', '’ll', 'out', 'ca', 'that', 'anyhow', 'same', 'somewhere', '’m', 'enough', 'hundred', 'by', 'except', 'around', 'there', 'whereupon', 'used', 'might', 'whoever', \"'re\", 'for', 'doing', 'not', 'least', 'its', 'has', 'otherwise', 'thus', 'latterly', 'always', 'wherever', '’ve', 'serious'}\n"
     ]
    }
   ],
   "source": [
    "# Print the set of spaCy's default stop words (remember that sets are unordered):\n",
    "print(nlp.Defaults.stop_words)"
   ]
  },
  {
   "cell_type": "code",
   "execution_count": 6,
   "metadata": {},
   "outputs": [
    {
     "data": {
      "text/plain": [
       "326"
      ]
     },
     "execution_count": 6,
     "metadata": {},
     "output_type": "execute_result"
    }
   ],
   "source": [
    "len(nlp.Defaults.stop_words)"
   ]
  },
  {
   "cell_type": "markdown",
   "metadata": {},
   "source": [
    "## To see if a word is a stop word"
   ]
  },
  {
   "cell_type": "code",
   "execution_count": 7,
   "metadata": {},
   "outputs": [
    {
     "data": {
      "text/plain": [
       "True"
      ]
     },
     "execution_count": 7,
     "metadata": {},
     "output_type": "execute_result"
    }
   ],
   "source": [
    "nlp.vocab['myself'].is_stop"
   ]
  },
  {
   "cell_type": "code",
   "execution_count": 8,
   "metadata": {},
   "outputs": [
    {
     "data": {
      "text/plain": [
       "False"
      ]
     },
     "execution_count": 8,
     "metadata": {},
     "output_type": "execute_result"
    }
   ],
   "source": [
    "nlp.vocab['mystery'].is_stop"
   ]
  },
  {
   "cell_type": "markdown",
   "metadata": {},
   "source": [
    "## To add a stop word\n",
    "There may be times when you wish to add a stop word to the default set. Perhaps you decide that `'btw'` (common shorthand for \"by the way\") should be considered a stop word."
   ]
  },
  {
   "cell_type": "code",
   "execution_count": 9,
   "metadata": {},
   "outputs": [],
   "source": [
    "# Add the word to the set of stop words. Use lowercase!\n",
    "nlp.Defaults.stop_words.add('btw')\n",
    "\n",
    "# Set the stop_word tag on the lexeme\n",
    "nlp.vocab['btw'].is_stop = True"
   ]
  },
  {
   "cell_type": "code",
   "execution_count": 10,
   "metadata": {},
   "outputs": [
    {
     "data": {
      "text/plain": [
       "327"
      ]
     },
     "execution_count": 10,
     "metadata": {},
     "output_type": "execute_result"
    }
   ],
   "source": [
    "len(nlp.Defaults.stop_words)"
   ]
  },
  {
   "cell_type": "code",
   "execution_count": 15,
   "metadata": {},
   "outputs": [
    {
     "data": {
      "text/plain": [
       "True"
      ]
     },
     "execution_count": 15,
     "metadata": {},
     "output_type": "execute_result"
    }
   ],
   "source": [
    "nlp.vocab['btw'].is_stop"
   ]
  },
  {
   "cell_type": "markdown",
   "metadata": {},
   "source": [
    "<font color=green>When adding stop words, always use lowercase. Lexemes are converted to lowercase before being added to **vocab**.</font>"
   ]
  },
  {
   "cell_type": "markdown",
   "metadata": {},
   "source": [
    "## To remove a stop word\n",
    "Alternatively, you may decide that `'beyond'` should not be considered a stop word."
   ]
  },
  {
   "cell_type": "code",
   "execution_count": 12,
   "metadata": {},
   "outputs": [],
   "source": [
    "# Remove the word from the set of stop words\n",
    "nlp.Defaults.stop_words.remove('beyond')\n",
    "\n",
    "# Remove the stop_word tag from the lexeme\n",
    "nlp.vocab['beyond'].is_stop = False"
   ]
  },
  {
   "cell_type": "code",
   "execution_count": 13,
   "metadata": {},
   "outputs": [
    {
     "data": {
      "text/plain": [
       "326"
      ]
     },
     "execution_count": 13,
     "metadata": {},
     "output_type": "execute_result"
    }
   ],
   "source": [
    "len(nlp.Defaults.stop_words)"
   ]
  },
  {
   "cell_type": "code",
   "execution_count": 14,
   "metadata": {},
   "outputs": [
    {
     "data": {
      "text/plain": [
       "False"
      ]
     },
     "execution_count": 14,
     "metadata": {},
     "output_type": "execute_result"
    }
   ],
   "source": [
    "nlp.vocab['beyond'].is_stop"
   ]
  },
  {
   "cell_type": "markdown",
   "metadata": {},
   "source": [
    "Great! Now you should be able to access spaCy's default set of stop words, and add or remove stop words as needed.\n",
    "## Next up: Vocabulary and Matching"
   ]
  }
 ],
 "metadata": {
  "kernelspec": {
   "display_name": "Python 3",
   "language": "python",
   "name": "python3"
  },
  "language_info": {
   "codemirror_mode": {
    "name": "ipython",
    "version": 3
   },
   "file_extension": ".py",
   "mimetype": "text/x-python",
   "name": "python",
   "nbconvert_exporter": "python",
   "pygments_lexer": "ipython3",
   "version": "3.8.2"
  }
 },
 "nbformat": 4,
 "nbformat_minor": 4
}
